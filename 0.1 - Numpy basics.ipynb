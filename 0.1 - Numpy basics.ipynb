{
 "cells": [
  {
   "cell_type": "markdown",
   "metadata": {
    "slideshow": {
     "slide_type": "slide"
    }
   },
   "source": [
    "# Numpy basics\n",
    "Numpy is a library that provides an easy interface to work with N-dimensional arrays, instead of using the pure python alternative that is nested lists.\n",
    "\n",
    "**The main problem we can have using numpy is that we cannot use values that are not numeric** (see: https://numpy.org/doc/stable/user/basics.types.html for all the available types). \n",
    "*Although this is not entirely true, as we will see when using pandas, this library is focused on working with numbers.*\n",
    "\n",
    "We can install it using the following command in our shell (usually inside a virtualenv):"
   ]
  },
  {
   "cell_type": "code",
   "execution_count": 1,
   "metadata": {
    "slideshow": {
     "slide_type": "slide"
    }
   },
   "outputs": [
    {
     "name": "stdout",
     "output_type": "stream",
     "text": [
      "Requirement already satisfied: numpy in /home/josep/.pyenv/versions/3.6.5/envs/si_2021/lib/python3.6/site-packages (1.19.5)\n"
     ]
    }
   ],
   "source": [
    "!pip install numpy"
   ]
  },
  {
   "cell_type": "markdown",
   "metadata": {
    "slideshow": {
     "slide_type": "slide"
    }
   },
   "source": [
    "Once we have it, let's see how to create an array, access a single value, or access an entire row or column."
   ]
  },
  {
   "cell_type": "code",
   "execution_count": 2,
   "metadata": {
    "slideshow": {
     "slide_type": "slide"
    }
   },
   "outputs": [
    {
     "name": "stdout",
     "output_type": "stream",
     "text": [
      "[[ 1  2  3  4]\n",
      " [ 5  6  7  8]\n",
      " [ 9 10 11 12]]\n",
      "<class 'numpy.ndarray'>\n"
     ]
    }
   ],
   "source": [
    "import numpy\n",
    "\n",
    "pure_python_data = [\n",
    "    [1,  2,  3,  4],\n",
    "    [5,  6,  7,  8],\n",
    "    [9, 10, 11, 12]\n",
    "]\n",
    "\n",
    "array = numpy.array(pure_python_data)\n",
    "\n",
    "print(array)\n",
    "print(type(array))"
   ]
  },
  {
   "cell_type": "markdown",
   "metadata": {
    "slideshow": {
     "slide_type": "slide"
    }
   },
   "source": [
    "We can fetch additional information of the array:"
   ]
  },
  {
   "cell_type": "code",
   "execution_count": 3,
   "metadata": {
    "slideshow": {
     "slide_type": "slide"
    }
   },
   "outputs": [
    {
     "name": "stdout",
     "output_type": "stream",
     "text": [
      "There are 2 dimensions in the array\n",
      "The shape of the array is (3, 4)\n",
      "In total, there are 12 values\n",
      "We have an array of int64\n"
     ]
    }
   ],
   "source": [
    "print(\"There are\", array.ndim, \"dimensions in the array\")\n",
    "print(\"The shape of the array is\", array.shape)\n",
    "print(\"In total, there are\", array.size, \"values\")\n",
    "print(\"We have an array of\", array.dtype)"
   ]
  },
  {
   "cell_type": "markdown",
   "metadata": {},
   "source": [
    "Other creation methods:"
   ]
  },
  {
   "cell_type": "code",
   "execution_count": 4,
   "metadata": {},
   "outputs": [
    {
     "data": {
      "text/plain": [
       "array([[[ 1,  2],\n",
       "        [ 3,  4],\n",
       "        [ 5,  6]],\n",
       "\n",
       "       [[ 7,  8],\n",
       "        [ 9, 10],\n",
       "        [11, 12]]])"
      ]
     },
     "execution_count": 4,
     "metadata": {},
     "output_type": "execute_result"
    }
   ],
   "source": [
    "numpy.array([i for i in range(1,13)]).reshape( (2, 3, 2) )"
   ]
  },
  {
   "cell_type": "code",
   "execution_count": 5,
   "metadata": {},
   "outputs": [
    {
     "data": {
      "text/plain": [
       "array([[1., 0., 0., 0., 0.],\n",
       "       [0., 1., 0., 0., 0.],\n",
       "       [0., 0., 1., 0., 0.],\n",
       "       [0., 0., 0., 1., 0.],\n",
       "       [0., 0., 0., 0., 1.],\n",
       "       [0., 0., 0., 0., 0.],\n",
       "       [0., 0., 0., 0., 0.],\n",
       "       [0., 0., 0., 0., 0.],\n",
       "       [0., 0., 0., 0., 0.],\n",
       "       [0., 0., 0., 0., 0.]])"
      ]
     },
     "execution_count": 5,
     "metadata": {},
     "output_type": "execute_result"
    }
   ],
   "source": [
    "numpy.eye(10,5)"
   ]
  },
  {
   "cell_type": "markdown",
   "metadata": {},
   "source": [
    "For other methods see: https://numpy.org/doc/stable/reference/routines.array-creation.html"
   ]
  },
  {
   "cell_type": "markdown",
   "metadata": {},
   "source": [
    "## Numpy axes"
   ]
  },
  {
   "cell_type": "markdown",
   "metadata": {},
   "source": [
    "One of the most difficult concept of numpy is the concept of axes (we will see later why).\n",
    "\n",
    "It is important to have this concept clear, as it will avoid having troubles when using numpy functions such as `sum`, `mean`, `max`, `min`...\n",
    "\n",
    "Assuming two dimensions, we have the following array:"
   ]
  },
  {
   "cell_type": "code",
   "execution_count": 6,
   "metadata": {},
   "outputs": [
    {
     "data": {
      "text/plain": [
       "array([[1, 0, 0, 0, 0, 0],\n",
       "       [0, 1, 0, 0, 0, 0],\n",
       "       [0, 0, 1, 0, 0, 0],\n",
       "       [0, 0, 0, 1, 0, 0],\n",
       "       [0, 0, 0, 0, 1, 0]])"
      ]
     },
     "execution_count": 6,
     "metadata": {},
     "output_type": "execute_result"
    }
   ],
   "source": [
    "numpy.eye(5,6, dtype=numpy.int)"
   ]
  },
  {
   "cell_type": "markdown",
   "metadata": {},
   "source": [
    "When we talk that we are operating on the axis 0, we are talking about traversing the array in the direction of how the rows are span:\n",
    "\n",
    "![Source: https://www.sharpsightlabs.com/blog/numpy-axes-explained/](https://vrzkj25a871bpq7t1ugcgmn9-wpengine.netdna-ssl.com/wp-content/uploads/2018/12/numpy-axis0.png)\n",
    "Source: https://www.sharpsightlabs.com/blog/numpy-axes-explained/\n",
    "\n",
    "Thus, when we apply an operation over the row axis, we are collapsing the rows into a single row, while keeping all the other dimensions.\n",
    "\n",
    "The next dimension is the columns, so when we apply an operation over the column axis (axis 1) we are collapsing the columns.\n",
    "\n",
    "**We will come at this later.**"
   ]
  },
  {
   "cell_type": "markdown",
   "metadata": {
    "slideshow": {
     "slide_type": "slide"
    }
   },
   "source": [
    "## Accessing array values"
   ]
  },
  {
   "cell_type": "markdown",
   "metadata": {},
   "source": [
    "If we want to access a single element, with python lists we would use nested indexing, such as:"
   ]
  },
  {
   "cell_type": "code",
   "execution_count": 7,
   "metadata": {},
   "outputs": [
    {
     "data": {
      "text/plain": [
       "8"
      ]
     },
     "execution_count": 7,
     "metadata": {},
     "output_type": "execute_result"
    }
   ],
   "source": [
    "pure_python_data[1][3]"
   ]
  },
  {
   "cell_type": "markdown",
   "metadata": {},
   "source": [
    "With numpy, we can access the value using only one indexing that combines both the first and second dimensions:"
   ]
  },
  {
   "cell_type": "code",
   "execution_count": 8,
   "metadata": {},
   "outputs": [
    {
     "data": {
      "text/plain": [
       "8"
      ]
     },
     "execution_count": 8,
     "metadata": {},
     "output_type": "execute_result"
    }
   ],
   "source": [
    "array[1, 3]"
   ]
  },
  {
   "cell_type": "markdown",
   "metadata": {},
   "source": [
    "If we skip a dimension, we get all the values in the dimension we skipped.\n",
    "\n",
    "For example, not specifying the column we get the row with all the columns:"
   ]
  },
  {
   "cell_type": "code",
   "execution_count": 9,
   "metadata": {},
   "outputs": [
    {
     "data": {
      "text/plain": [
       "array([5, 6, 7, 8])"
      ]
     },
     "execution_count": 9,
     "metadata": {},
     "output_type": "execute_result"
    }
   ],
   "source": [
    "array[1,]"
   ]
  },
  {
   "cell_type": "markdown",
   "metadata": {},
   "source": [
    "This resembles the code that we use with pure python (to get a row we use `list[row_no]`). The advantage of using numpy is that we can also access columns for example:"
   ]
  },
  {
   "cell_type": "code",
   "execution_count": 10,
   "metadata": {},
   "outputs": [
    {
     "data": {
      "text/plain": [
       "array([ 3,  7, 11])"
      ]
     },
     "execution_count": 10,
     "metadata": {},
     "output_type": "execute_result"
    }
   ],
   "source": [
    "array[:, 2]"
   ]
  },
  {
   "cell_type": "markdown",
   "metadata": {},
   "source": [
    "**Note** that we have to set the `:` indexing value (fetch all values) for all the dimensions that we skip before specifying a value, to be explicit about which dimension we are using."
   ]
  },
  {
   "cell_type": "markdown",
   "metadata": {},
   "source": [
    "This simplifies the code when we are working with lists of data. \n",
    "\n",
    "For example, when implementing the algorithm KMeans, we must compute the centroid by calculating the mean point of all the points assigned to this centroid.\n",
    "\n",
    "With pure python, we used:"
   ]
  },
  {
   "cell_type": "code",
   "execution_count": 11,
   "metadata": {},
   "outputs": [
    {
     "name": "stdout",
     "output_type": "stream",
     "text": [
      "[2.6666666666666665, 2.6666666666666665]\n"
     ]
    }
   ],
   "source": [
    "points = numpy.array([\n",
    "    (1, 2),\n",
    "    (3, 2),\n",
    "    (4, 4)\n",
    "])\n",
    "\n",
    "def mean_points(points):\n",
    "    n_feats = len(points[0])\n",
    "    acc = [0.0] * n_feats\n",
    "    for i in range(n_feats):\n",
    "        for p in points:\n",
    "            acc[i] += p[i]\n",
    "        \n",
    "        acc[i] /= len(points)\n",
    "    \n",
    "    return acc\n",
    "print(mean_points(points))"
   ]
  },
  {
   "cell_type": "markdown",
   "metadata": {},
   "source": [
    "Using numpy, we can set this function to be:"
   ]
  },
  {
   "cell_type": "code",
   "execution_count": 12,
   "metadata": {},
   "outputs": [
    {
     "name": "stdout",
     "output_type": "stream",
     "text": [
      "[2.6666666666666665, 2.6666666666666665]\n"
     ]
    }
   ],
   "source": [
    "def mean_points(points):\n",
    "    n_points, n_feats = points.shape\n",
    "    acc = [sum(points[:,i]) / n_points for i in range(n_feats)]\n",
    "    return acc\n",
    "\n",
    "print(mean_points(points))"
   ]
  },
  {
   "cell_type": "markdown",
   "metadata": {},
   "source": [
    "### Numpy convenient  methods"
   ]
  },
  {
   "cell_type": "markdown",
   "metadata": {},
   "source": [
    "As some operations are common in mots user cases, Numpy provides some methods to apply those common operations to an array. Thus, if we want to sum an entire array we would not write an iterator, but just use the `.sum` method:"
   ]
  },
  {
   "cell_type": "code",
   "execution_count": 13,
   "metadata": {},
   "outputs": [
    {
     "name": "stdout",
     "output_type": "stream",
     "text": [
      "[2.66666667 2.66666667]\n"
     ]
    }
   ],
   "source": [
    "def mean_points(points):\n",
    "    n_points, n_feats = points.shape\n",
    "    return points.sum(axis=0) / n_points\n",
    "print(mean_points(points))"
   ]
  },
  {
   "cell_type": "markdown",
   "metadata": {},
   "source": [
    "Other available methods that we have are:\n",
    "\n",
    "- `.min`\n",
    "- `.max`\n",
    "- `.mean`\n",
    "- `.median`\n",
    "- ..."
   ]
  },
  {
   "cell_type": "markdown",
   "metadata": {},
   "source": [
    "So we can improve even more our mean_points function to be:"
   ]
  },
  {
   "cell_type": "code",
   "execution_count": 14,
   "metadata": {},
   "outputs": [
    {
     "name": "stdout",
     "output_type": "stream",
     "text": [
      "[2.66666667 2.66666667]\n"
     ]
    }
   ],
   "source": [
    "def mean_point(points):\n",
    "    # return points.mean(axis=0)\n",
    "    return numpy.mean(points, axis=0)\n",
    "\n",
    "print(mean_point(points))"
   ]
  },
  {
   "cell_type": "markdown",
   "metadata": {},
   "source": [
    "## Operations using numpy arrays"
   ]
  },
  {
   "cell_type": "markdown",
   "metadata": {},
   "source": [
    "We can apply arithmetic operators between arrays *elementwise*. This means that for example we can sum a matrix with another one directly.\n",
    "\n",
    "**Note the \"elementwise\". When multiplying matrices using `a*b` in Numpy, it will not apply the same rules we use in maths.**"
   ]
  },
  {
   "cell_type": "code",
   "execution_count": 15,
   "metadata": {},
   "outputs": [
    {
     "name": "stdout",
     "output_type": "stream",
     "text": [
      "[[0 1 2]\n",
      " [3 4 5]\n",
      " [6 7 8]]\n",
      "[[1 1 1]\n",
      " [1 1 1]\n",
      " [1 1 1]]\n"
     ]
    },
    {
     "data": {
      "text/plain": [
       "array([[0, 1, 2],\n",
       "       [3, 4, 5],\n",
       "       [6, 7, 8]])"
      ]
     },
     "execution_count": 15,
     "metadata": {},
     "output_type": "execute_result"
    }
   ],
   "source": [
    "array1 = numpy.arange(9).reshape(3, 3)\n",
    "# arange creates a single dimension array with the elements\n",
    "# from 0 to 8\n",
    "# with reshape we give it the desired shape (a 3x3 matrix)\n",
    "\n",
    "array2 = numpy.ones((3,3), dtype=numpy.int32)\n",
    "# ones creates an array with the desired shape (3,3) filled with ones\n",
    "\n",
    "print(array1)\n",
    "print(array2)\n",
    "\n",
    "array1 * array2"
   ]
  },
  {
   "cell_type": "code",
   "execution_count": 16,
   "metadata": {},
   "outputs": [
    {
     "name": "stdout",
     "output_type": "stream",
     "text": [
      "[[0.  0.5 1. ]\n",
      " [1.5 2.  2.5]\n",
      " [3.  3.5 4. ]]\n",
      "[[0.  0.5 1. ]\n",
      " [1.5 2.  2.5]\n",
      " [3.  3.5 4. ]]\n"
     ]
    }
   ],
   "source": [
    "print((array1 * array2) / 2.)\n",
    "print((array1 * array2) / 2)   # <- division between ints is an int in python 2"
   ]
  },
  {
   "cell_type": "markdown",
   "metadata": {},
   "source": [
    "## Conclusion"
   ]
  },
  {
   "cell_type": "markdown",
   "metadata": {},
   "source": [
    "This was a really basic introduction to the numpy library. This library is really extense, and has lots of methods to help us deal with matrix operations.\n",
    "\n",
    "Numpy is interesting by itself, but also when using other frameworks such as Pandas, Tensorflow, Pytorch... you will see that they resemble the language used by this library.\n",
    "\n",
    "For more information, check the official documentation at https://numpy.org/doc/stable/"
   ]
  }
 ],
 "metadata": {
  "kernelspec": {
   "display_name": "Python 3",
   "language": "python",
   "name": "python3"
  },
  "language_info": {
   "codemirror_mode": {
    "name": "ipython",
    "version": 3
   },
   "file_extension": ".py",
   "mimetype": "text/x-python",
   "name": "python",
   "nbconvert_exporter": "python",
   "pygments_lexer": "ipython3",
   "version": "3.8.8"
  }
 },
 "nbformat": 4,
 "nbformat_minor": 4
}
