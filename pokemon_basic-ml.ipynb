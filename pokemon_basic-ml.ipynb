{
 "cells": [
  {
   "cell_type": "markdown",
   "id": "5100e620-aba9-4f0f-93bc-cab59a4a4026",
   "metadata": {},
   "source": [
    "# Assignment 2 - Basic Machine Learning to predict Pokémon battles results\n",
    "\n",
    "([From Wikipedia](https://en.wikipedia.org/wiki/Pok%C3%A9mon)) *Pokémon is a Japanese media franchise managed by The Pokémon Company, a company founded by Nintendo, Game Freak, and Creatures. The franchise was created by Satoshi Tajiri in 1996,[4] and is centered on fictional creatures called \"Pokémon\". In Pokémon, humans, known as Pokémon Trainers, catch and train Pokémon to battle other Pokémon for sport.*\n",
    "\n",
    "In this assignment we present you a dataset with the results of several Pokémon battles.\n",
    "\n",
    "Your objective will be to produce a ML model that can predict the outcomes of any Pokémon battle.\n",
    "\n",
    "At first, in this notebook, you will apply some of the basic ML approaches that we have seen in class. At this point you can also work with the *small* versions of the dataset if you want.\n",
    "\n",
    "Later, on the `pokemon-competition.ipynb` notebook, you will train a model using all the data that will be used to predict *real* Pokémon battles.\n",
    "\n",
    "**Dataset Description**\n",
    "\n",
    "Within the `datasets.zip` file that you can download from the virtual campus, you will find the following datasets:\n",
    "\n",
    "- data.train -> Full data available to train the models\n",
    "- data_inverse.train -> Same data as data.train but each combat is seen from the other player's perspective (i.e. pokemon1 becomes pokemon2 and viceversa)\n",
    "- small.train -> Subsample of data.train to allow fast prototyping\n",
    "- small_inverse.train -> Subsample of data_inverse.train to allow fast prototyping\n",
    "- data.hidden -> Dataset with no label available\n",
    "- data_inverse.hidden -> Same as data.hidden but the pokemons are inverted\n",
    "\n",
    "The datasets *.hidden are the ones used to get the tournament score,\n",
    "so the true label is unknown. All the other datasets are available to\n",
    "you to use however you want.\n",
    "\n",
    "*Gotta Train 'Em All!*"
   ]
  },
  {
   "cell_type": "code",
   "execution_count": 1,
   "id": "a4817b09-c29c-48cb-9573-2b57f1eb828f",
   "metadata": {},
   "outputs": [],
   "source": [
    "from pathlib import Path\n",
    "import pandas\n",
    "\n",
    "__wd__ = Path(\"__file__\").resolve().parent\n",
    "datasets_path = __wd__ / \"datasets\"\n",
    "\n",
    "data = pandas.read_csv(datasets_path / \"data.train\", index_col=0)\n",
    "inverse_data = pandas.read_csv(datasets_path / \"data_inverse.train\", index_col=0)\n",
    "\n",
    "def get_Xy(dataset):\n",
    "    return dataset.drop(\"Wins\", axis=1), dataset[\"Wins\"]\n",
    "\n",
    "X, y = get_Xy(data)"
   ]
  },
  {
   "cell_type": "code",
   "execution_count": 78,
   "id": "c41f9e74-4521-413c-9f77-ed70e05b8cc7",
   "metadata": {},
   "outputs": [],
   "source": [
    "# Add your imports here\n",
    "import seaborn as sns\n",
    "import matplotlib.pyplot as plt\n",
    "import numpy as np\n",
    "from sklearn import preprocessing"
   ]
  },
  {
   "cell_type": "code",
   "execution_count": 79,
   "id": "11e4bb68",
   "metadata": {},
   "outputs": [],
   "source": [
    "# Additional settings\n",
    "pandas.set_option('display.max_columns', None)\n",
    "sns.set_theme(style=\"white\")"
   ]
  },
  {
   "cell_type": "markdown",
   "id": "2028a1d7-7aac-4606-b742-640fc4aefe25",
   "metadata": {
    "tags": []
   },
   "source": [
    "## Part 1 - Analyze the dataset (2 points)\n",
    "The first step of any ML process is to know the data we are dealing with. In this part, you have to analyze the dataset and answer the questions below.\n",
    "\n",
    "1. Which features are categorical? Which are continuous?"
   ]
  },
  {
   "cell_type": "code",
   "execution_count": 33,
   "id": "13a8bedc",
   "metadata": {},
   "outputs": [
    {
     "name": "stdout",
     "output_type": "stream",
     "text": [
      "<class 'pandas.core.frame.DataFrame'>\n",
      "Int64Index: 40000 entries, 39087 to 15795\n",
      "Data columns (total 23 columns):\n",
      " #   Column             Non-Null Count  Dtype  \n",
      "---  ------             --------------  -----  \n",
      " 0   Name               36006 non-null  object \n",
      " 1   Type 1             36026 non-null  object \n",
      " 2   Type 2             19465 non-null  object \n",
      " 3   HP                 35994 non-null  float64\n",
      " 4   Attack             36103 non-null  float64\n",
      " 5   Defense            35966 non-null  float64\n",
      " 6   Sp. Atk            36080 non-null  float64\n",
      " 7   Sp. Def            36018 non-null  float64\n",
      " 8   Speed              36028 non-null  float64\n",
      " 9   Generation         36007 non-null  float64\n",
      " 10  Legendary          36019 non-null  object \n",
      " 11  Name__other        36037 non-null  object \n",
      " 12  Type 1__other      35990 non-null  object \n",
      " 13  Type 2__other      19406 non-null  object \n",
      " 14  HP__other          35895 non-null  float64\n",
      " 15  Attack__other      36005 non-null  float64\n",
      " 16  Defense__other     35984 non-null  float64\n",
      " 17  Sp. Atk__other     35904 non-null  float64\n",
      " 18  Sp. Def__other     35995 non-null  float64\n",
      " 19  Speed__other       35956 non-null  float64\n",
      " 20  Generation__other  36014 non-null  float64\n",
      " 21  Legendary__other   36018 non-null  object \n",
      " 22  Wins               40000 non-null  bool   \n",
      "dtypes: bool(1), float64(14), object(8)\n",
      "memory usage: 7.1+ MB\n"
     ]
    },
    {
     "data": {
      "text/html": [
       "<div>\n",
       "<style scoped>\n",
       "    .dataframe tbody tr th:only-of-type {\n",
       "        vertical-align: middle;\n",
       "    }\n",
       "\n",
       "    .dataframe tbody tr th {\n",
       "        vertical-align: top;\n",
       "    }\n",
       "\n",
       "    .dataframe thead th {\n",
       "        text-align: right;\n",
       "    }\n",
       "</style>\n",
       "<table border=\"1\" class=\"dataframe\">\n",
       "  <thead>\n",
       "    <tr style=\"text-align: right;\">\n",
       "      <th></th>\n",
       "      <th>Name</th>\n",
       "      <th>Type 1</th>\n",
       "      <th>Type 2</th>\n",
       "      <th>HP</th>\n",
       "      <th>Attack</th>\n",
       "      <th>Defense</th>\n",
       "      <th>Sp. Atk</th>\n",
       "      <th>Sp. Def</th>\n",
       "      <th>Speed</th>\n",
       "      <th>Generation</th>\n",
       "      <th>Legendary</th>\n",
       "      <th>Name__other</th>\n",
       "      <th>Type 1__other</th>\n",
       "      <th>Type 2__other</th>\n",
       "      <th>HP__other</th>\n",
       "      <th>Attack__other</th>\n",
       "      <th>Defense__other</th>\n",
       "      <th>Sp. Atk__other</th>\n",
       "      <th>Sp. Def__other</th>\n",
       "      <th>Speed__other</th>\n",
       "      <th>Generation__other</th>\n",
       "      <th>Legendary__other</th>\n",
       "      <th>Wins</th>\n",
       "    </tr>\n",
       "  </thead>\n",
       "  <tbody>\n",
       "    <tr>\n",
       "      <th>39087</th>\n",
       "      <td>Karrablast</td>\n",
       "      <td>Bug</td>\n",
       "      <td>NaN</td>\n",
       "      <td>50.0</td>\n",
       "      <td>72.0</td>\n",
       "      <td>39.0</td>\n",
       "      <td>39.0</td>\n",
       "      <td>42.0</td>\n",
       "      <td>55.0</td>\n",
       "      <td>5.0</td>\n",
       "      <td>False</td>\n",
       "      <td>Pidove</td>\n",
       "      <td>Normal</td>\n",
       "      <td>NaN</td>\n",
       "      <td>50.0</td>\n",
       "      <td>53.0</td>\n",
       "      <td>43.0</td>\n",
       "      <td>47.0</td>\n",
       "      <td>27.0</td>\n",
       "      <td>40.0</td>\n",
       "      <td>5.0</td>\n",
       "      <td>False</td>\n",
       "      <td>True</td>\n",
       "    </tr>\n",
       "    <tr>\n",
       "      <th>30893</th>\n",
       "      <td>NaN</td>\n",
       "      <td>Rock</td>\n",
       "      <td>Water</td>\n",
       "      <td>70.0</td>\n",
       "      <td>NaN</td>\n",
       "      <td>125.0</td>\n",
       "      <td>113.0</td>\n",
       "      <td>78.0</td>\n",
       "      <td>NaN</td>\n",
       "      <td>1.0</td>\n",
       "      <td>False</td>\n",
       "      <td>Tepig</td>\n",
       "      <td>Fire</td>\n",
       "      <td>NaN</td>\n",
       "      <td>65.0</td>\n",
       "      <td>64.0</td>\n",
       "      <td>NaN</td>\n",
       "      <td>49.0</td>\n",
       "      <td>41.0</td>\n",
       "      <td>39.0</td>\n",
       "      <td>5.0</td>\n",
       "      <td>False</td>\n",
       "      <td>True</td>\n",
       "    </tr>\n",
       "    <tr>\n",
       "      <th>45278</th>\n",
       "      <td>Mega Manectric</td>\n",
       "      <td>Electric</td>\n",
       "      <td>NaN</td>\n",
       "      <td>70.0</td>\n",
       "      <td>77.0</td>\n",
       "      <td>81.0</td>\n",
       "      <td>NaN</td>\n",
       "      <td>91.0</td>\n",
       "      <td>136.0</td>\n",
       "      <td>3.0</td>\n",
       "      <td>NaN</td>\n",
       "      <td>Garbodor</td>\n",
       "      <td>Poison</td>\n",
       "      <td>NaN</td>\n",
       "      <td>NaN</td>\n",
       "      <td>48.0</td>\n",
       "      <td>78.0</td>\n",
       "      <td>NaN</td>\n",
       "      <td>83.0</td>\n",
       "      <td>75.0</td>\n",
       "      <td>5.0</td>\n",
       "      <td>False</td>\n",
       "      <td>True</td>\n",
       "    </tr>\n",
       "    <tr>\n",
       "      <th>16398</th>\n",
       "      <td>Bouffalant</td>\n",
       "      <td>Psychic</td>\n",
       "      <td>NaN</td>\n",
       "      <td>95.0</td>\n",
       "      <td>121.0</td>\n",
       "      <td>NaN</td>\n",
       "      <td>39.0</td>\n",
       "      <td>85.0</td>\n",
       "      <td>NaN</td>\n",
       "      <td>5.0</td>\n",
       "      <td>False</td>\n",
       "      <td>Tauros</td>\n",
       "      <td>Normal</td>\n",
       "      <td>NaN</td>\n",
       "      <td>75.0</td>\n",
       "      <td>108.0</td>\n",
       "      <td>101.0</td>\n",
       "      <td>39.0</td>\n",
       "      <td>68.0</td>\n",
       "      <td>106.0</td>\n",
       "      <td>NaN</td>\n",
       "      <td>False</td>\n",
       "      <td>False</td>\n",
       "    </tr>\n",
       "    <tr>\n",
       "      <th>13653</th>\n",
       "      <td>Swablu</td>\n",
       "      <td>Normal</td>\n",
       "      <td>Flying</td>\n",
       "      <td>45.0</td>\n",
       "      <td>36.0</td>\n",
       "      <td>58.0</td>\n",
       "      <td>37.0</td>\n",
       "      <td>76.0</td>\n",
       "      <td>56.0</td>\n",
       "      <td>3.0</td>\n",
       "      <td>False</td>\n",
       "      <td>Mr. Mime</td>\n",
       "      <td>Psychic</td>\n",
       "      <td>Fairy</td>\n",
       "      <td>40.0</td>\n",
       "      <td>46.0</td>\n",
       "      <td>68.0</td>\n",
       "      <td>108.0</td>\n",
       "      <td>123.0</td>\n",
       "      <td>86.0</td>\n",
       "      <td>1.0</td>\n",
       "      <td>False</td>\n",
       "      <td>False</td>\n",
       "    </tr>\n",
       "  </tbody>\n",
       "</table>\n",
       "</div>"
      ],
      "text/plain": [
       "                 Name    Type 1  Type 2    HP  Attack  Defense  Sp. Atk  \\\n",
       "39087      Karrablast       Bug     NaN  50.0    72.0     39.0     39.0   \n",
       "30893             NaN      Rock   Water  70.0     NaN    125.0    113.0   \n",
       "45278  Mega Manectric  Electric     NaN  70.0    77.0     81.0      NaN   \n",
       "16398      Bouffalant   Psychic     NaN  95.0   121.0      NaN     39.0   \n",
       "13653          Swablu    Normal  Flying  45.0    36.0     58.0     37.0   \n",
       "\n",
       "       Sp. Def  Speed  Generation Legendary Name__other Type 1__other  \\\n",
       "39087     42.0   55.0         5.0     False      Pidove        Normal   \n",
       "30893     78.0    NaN         1.0     False       Tepig          Fire   \n",
       "45278     91.0  136.0         3.0       NaN    Garbodor        Poison   \n",
       "16398     85.0    NaN         5.0     False      Tauros        Normal   \n",
       "13653     76.0   56.0         3.0     False    Mr. Mime       Psychic   \n",
       "\n",
       "      Type 2__other  HP__other  Attack__other  Defense__other  Sp. Atk__other  \\\n",
       "39087           NaN       50.0           53.0            43.0            47.0   \n",
       "30893           NaN       65.0           64.0             NaN            49.0   \n",
       "45278           NaN        NaN           48.0            78.0             NaN   \n",
       "16398           NaN       75.0          108.0           101.0            39.0   \n",
       "13653         Fairy       40.0           46.0            68.0           108.0   \n",
       "\n",
       "       Sp. Def__other  Speed__other  Generation__other Legendary__other   Wins  \n",
       "39087            27.0          40.0                5.0            False   True  \n",
       "30893            41.0          39.0                5.0            False   True  \n",
       "45278            83.0          75.0                5.0            False   True  \n",
       "16398            68.0         106.0                NaN            False  False  \n",
       "13653           123.0          86.0                1.0            False  False  "
      ]
     },
     "execution_count": 33,
     "metadata": {},
     "output_type": "execute_result"
    }
   ],
   "source": [
    "data.info()\n",
    "data.head(5)"
   ]
  },
  {
   "cell_type": "code",
   "execution_count": 34,
   "id": "8fec6652",
   "metadata": {},
   "outputs": [
    {
     "name": "stdout",
     "output_type": "stream",
     "text": [
      "<class 'pandas.core.frame.DataFrame'>\n",
      "Int64Index: 40000 entries, 39087 to 15795\n",
      "Data columns (total 11 columns):\n",
      " #   Column             Non-Null Count  Dtype  \n",
      "---  ------             --------------  -----  \n",
      " 0   Name               36006 non-null  object \n",
      " 1   Type 1             36026 non-null  object \n",
      " 2   Type 2             19465 non-null  object \n",
      " 3   Generation         36007 non-null  float64\n",
      " 4   Legendary          36019 non-null  object \n",
      " 5   Name__other        36037 non-null  object \n",
      " 6   Type 1__other      35990 non-null  object \n",
      " 7   Type 2__other      19406 non-null  object \n",
      " 8   Generation__other  36014 non-null  float64\n",
      " 9   Legendary__other   36018 non-null  object \n",
      " 10  Wins               40000 non-null  bool   \n",
      "dtypes: bool(1), float64(2), object(8)\n",
      "memory usage: 3.4+ MB\n"
     ]
    }
   ],
   "source": [
    "categorical_df = data[['Name','Type 1','Type 2','Generation','Legendary','Name__other','Type 1__other','Type 2__other','Generation__other','Legendary__other','Wins']]\n",
    "categorical_df.info()"
   ]
  },
  {
   "cell_type": "code",
   "execution_count": 35,
   "id": "4b1dc55e",
   "metadata": {},
   "outputs": [
    {
     "name": "stdout",
     "output_type": "stream",
     "text": [
      "<class 'pandas.core.frame.DataFrame'>\n",
      "Int64Index: 40000 entries, 39087 to 15795\n",
      "Data columns (total 12 columns):\n",
      " #   Column          Non-Null Count  Dtype  \n",
      "---  ------          --------------  -----  \n",
      " 0   HP              35994 non-null  float64\n",
      " 1   Attack          36103 non-null  float64\n",
      " 2   Defense         35966 non-null  float64\n",
      " 3   Sp. Atk         36080 non-null  float64\n",
      " 4   Sp. Def         36018 non-null  float64\n",
      " 5   Speed           36028 non-null  float64\n",
      " 6   HP__other       35895 non-null  float64\n",
      " 7   Attack__other   36005 non-null  float64\n",
      " 8   Defense__other  35984 non-null  float64\n",
      " 9   Sp. Atk__other  35904 non-null  float64\n",
      " 10  Sp. Def__other  35995 non-null  float64\n",
      " 11  Speed__other    35956 non-null  float64\n",
      "dtypes: float64(12)\n",
      "memory usage: 4.0 MB\n"
     ]
    }
   ],
   "source": [
    "continuous_df = data[['HP','Attack','Defense','Sp. Atk','Sp. Def','Speed','HP__other','Attack__other','Defense__other','Sp. Atk__other','Sp. Def__other','Speed__other']]\n",
    "continuous_df.info()"
   ]
  },
  {
   "cell_type": "markdown",
   "id": "74d6fdf6-20ac-4c0c-b0fc-e39941f774cc",
   "metadata": {},
   "source": [
    "2. Observe the distribution of the \"Type 1\" variable. Use a plot to show this distribution."
   ]
  },
  {
   "cell_type": "code",
   "execution_count": 46,
   "id": "973db97c-436b-480c-924b-76f19f78f619",
   "metadata": {},
   "outputs": [
    {
     "data": {
      "text/plain": [
       "<AxesSubplot:>"
      ]
     },
     "execution_count": 46,
     "metadata": {},
     "output_type": "execute_result"
    },
    {
     "data": {
      "image/png": "[encoded data removed]",
      "text/plain": [
       "<Figure size 432x288 with 1 Axes>"
      ]
     },
     "metadata": {
      "needs_background": "light"
     },
     "output_type": "display_data"
    }
   ],
   "source": [
    "data['Type 1'].value_counts().plot(kind='bar')"
   ]
  },
  {
   "cell_type": "markdown",
   "id": "f024e8b3-590e-4908-8e1e-a77673ec6db2",
   "metadata": {},
   "source": [
    "3. Determine which of the features have missing values. How many missing values there are for each one?"
   ]
  },
  {
   "cell_type": "code",
   "execution_count": 56,
   "id": "02f0dc1e-d1a5-4d06-aaa8-eec8ba0d306f",
   "metadata": {},
   "outputs": [
    {
     "data": {
      "text/plain": [
       "['Name',\n",
       " 'Type 1',\n",
       " 'Type 2',\n",
       " 'HP',\n",
       " 'Attack',\n",
       " 'Defense',\n",
       " 'Sp. Atk',\n",
       " 'Sp. Def',\n",
       " 'Speed',\n",
       " 'Generation',\n",
       " 'Legendary',\n",
       " 'Name__other',\n",
       " 'Type 1__other',\n",
       " 'Type 2__other',\n",
       " 'HP__other',\n",
       " 'Attack__other',\n",
       " 'Defense__other',\n",
       " 'Sp. Atk__other',\n",
       " 'Sp. Def__other',\n",
       " 'Speed__other',\n",
       " 'Generation__other',\n",
       " 'Legendary__other']"
      ]
     },
     "execution_count": 56,
     "metadata": {},
     "output_type": "execute_result"
    }
   ],
   "source": [
    "# Columns with missing values\n",
    "list(data.columns[data.isnull().any()])"
   ]
  },
  {
   "cell_type": "code",
   "execution_count": 57,
   "id": "7198f510",
   "metadata": {},
   "outputs": [
    {
     "data": {
      "text/plain": [
       "Name                  3994\n",
       "Type 1                3974\n",
       "Type 2               20535\n",
       "HP                    4006\n",
       "Attack                3897\n",
       "Defense               4034\n",
       "Sp. Atk               3920\n",
       "Sp. Def               3982\n",
       "Speed                 3972\n",
       "Generation            3993\n",
       "Legendary             3981\n",
       "Name__other           3963\n",
       "Type 1__other         4010\n",
       "Type 2__other        20594\n",
       "HP__other             4105\n",
       "Attack__other         3995\n",
       "Defense__other        4016\n",
       "Sp. Atk__other        4096\n",
       "Sp. Def__other        4005\n",
       "Speed__other          4044\n",
       "Generation__other     3986\n",
       "Legendary__other      3982\n",
       "Wins                     0\n",
       "dtype: int64"
      ]
     },
     "execution_count": 57,
     "metadata": {},
     "output_type": "execute_result"
    }
   ],
   "source": [
    "# Count Missing Values for each column\n",
    "data.isnull().sum()"
   ]
  },
  {
   "cell_type": "markdown",
   "id": "7f983236-2bf6-495f-adc2-266c0dba82e6",
   "metadata": {},
   "source": [
    "4. Analize the distribution of the target column. Is it balanced?"
   ]
  },
  {
   "cell_type": "code",
   "execution_count": 53,
   "id": "a253ecaf-ee73-42ce-a8eb-db7d23862356",
   "metadata": {},
   "outputs": [
    {
     "data": {
      "text/plain": [
       "<AxesSubplot:>"
      ]
     },
     "execution_count": 53,
     "metadata": {},
     "output_type": "execute_result"
    },
    {
     "data": {
      "image/png": "[encoded data removed]",
      "text/plain": [
       "<Figure size 432x288 with 1 Axes>"
      ]
     },
     "metadata": {
      "needs_background": "light"
     },
     "output_type": "display_data"
    }
   ],
   "source": [
    "data['Wins'].value_counts().plot(kind='bar')"
   ]
  },
  {
   "cell_type": "markdown",
   "id": "f2ff329b",
   "metadata": {},
   "source": [
    "As we can see in the bar plot, the target column is balanced it has more or less the same quantity wins/loss."
   ]
  },
  {
   "cell_type": "markdown",
   "id": "15bd9135-71cf-4624-8a35-208a23faaaeb",
   "metadata": {
    "tags": []
   },
   "source": [
    "## Part 2 - Preprocess the data (3 points)\n",
    "Once we know how the dataset is, we can proceed with the cleaning of the data. This includes:\n",
    "\n",
    "- Select the features that you want to use (p.e. removing too specific features). Explain why each feature is used or discarded.\n",
    "- Impute the missing values. Explain why you use this imputer and not another one. If you use different imputers for different features, explain the reason why you do this.\n",
    "- Encode the values of the features to work with the model you choose. This can be either encoding the categorical values, or discretizing continuous values."
   ]
  },
  {
   "cell_type": "code",
   "execution_count": 77,
   "id": "c0c59bb8",
   "metadata": {},
   "outputs": [
    {
     "data": {
      "text/plain": [
       "<AxesSubplot:>"
      ]
     },
     "execution_count": 77,
     "metadata": {},
     "output_type": "execute_result"
    },
    {
     "data": {
      "image/png": "[encoded data removed]",
      "text/plain": [
       "<Figure size 792x648 with 2 Axes>"
      ]
     },
     "metadata": {},
     "output_type": "display_data"
    }
   ],
   "source": [
    "# Filter Data\n",
    "\n",
    "# Clean Data\n",
    "\n",
    "# Normalize Categorical Data and \n",
    "\n",
    "\n",
    "data.corr(method ='pearson')\n",
    "\n",
    "# Generate a mask for the upper triangle\n",
    "mask = np.triu(np.ones_like(corr, dtype=bool))\n",
    "\n",
    "# Set up the matplotlib figure\n",
    "f, ax = plt.subplots(figsize=(11, 9))\n",
    "\n",
    "# Generate a custom diverging colormap\n",
    "cmap = sns.diverging_palette(230, 20, as_cmap=True)\n",
    "\n",
    "# Draw the heatmap with the mask and correct aspect ratio\n",
    "sns.heatmap(corr, mask=mask, cmap=cmap, center=0,\n",
    "            square=True, linewidths=.5, cbar_kws={\"shrink\": .5})\n",
    "\n",
    "# Reduce Dataframe\n",
    "\n",
    "# Clean Missing Values"
   ]
  },
  {
   "cell_type": "code",
   "execution_count": 60,
   "id": "9bf69c3b-a774-4386-bfed-42e127964245",
   "metadata": {},
   "outputs": [
    {
     "name": "stdout",
     "output_type": "stream",
     "text": [
      "<class 'pandas.core.frame.DataFrame'>\n",
      "Int64Index: 1061 entries, 13653 to 35920\n",
      "Data columns (total 23 columns):\n",
      " #   Column             Non-Null Count  Dtype  \n",
      "---  ------             --------------  -----  \n",
      " 0   Name               1061 non-null   object \n",
      " 1   Type 1             1061 non-null   object \n",
      " 2   Type 2             1061 non-null   object \n",
      " 3   HP                 1061 non-null   float64\n",
      " 4   Attack             1061 non-null   float64\n",
      " 5   Defense            1061 non-null   float64\n",
      " 6   Sp. Atk            1061 non-null   float64\n",
      " 7   Sp. Def            1061 non-null   float64\n",
      " 8   Speed              1061 non-null   float64\n",
      " 9   Generation         1061 non-null   float64\n",
      " 10  Legendary          1061 non-null   object \n",
      " 11  Name__other        1061 non-null   object \n",
      " 12  Type 1__other      1061 non-null   object \n",
      " 13  Type 2__other      1061 non-null   object \n",
      " 14  HP__other          1061 non-null   float64\n",
      " 15  Attack__other      1061 non-null   float64\n",
      " 16  Defense__other     1061 non-null   float64\n",
      " 17  Sp. Atk__other     1061 non-null   float64\n",
      " 18  Sp. Def__other     1061 non-null   float64\n",
      " 19  Speed__other       1061 non-null   float64\n",
      " 20  Generation__other  1061 non-null   float64\n",
      " 21  Legendary__other   1061 non-null   object \n",
      " 22  Wins               1061 non-null   bool   \n",
      "dtypes: bool(1), float64(14), object(8)\n",
      "memory usage: 191.7+ KB\n"
     ]
    }
   ],
   "source": [
    "reduced_data = data[['']]\n",
    "clean_data = reduced_data.dropna()\n",
    "clean_data.info()"
   ]
  },
  {
   "cell_type": "markdown",
   "id": "616b803e-0f87-41dc-a1a9-a7256fb824ba",
   "metadata": {},
   "source": [
    "## Part 3 - Training your model (3 points)\n",
    "In this part you have to train a **classifier** model to predict if a Pokemon will win or not a battle against another Pokemon. For this, you should explore at least 3 different classifiers.\n",
    "\n",
    "You have to train and evaluate those classifiers using cross-validation in order to select the best one. Then, you should also study the results of the model (overfit, underfit, possible bias...).\n",
    "\n",
    "1. Train (at least) 3 different classifiers\n",
    "2. Evaluate the 3 classifiers using cross-validation. Select the best model according to this metric.\n",
    "3. For the selected model: \n",
    "   1. Get the accuracy for data not seen during the training process\n",
    "   2. Plot the confusion matrix\n",
    "   3. Analize the results of accuracy and the confusion matrix"
   ]
  },
  {
   "cell_type": "code",
   "execution_count": 6,
   "id": "f5457ef8-37b1-4a60-bc0a-6eef63ddb6d9",
   "metadata": {},
   "outputs": [],
   "source": [
    "# Your code here..."
   ]
  },
  {
   "cell_type": "markdown",
   "id": "bc186c17-b9e0-4ad6-82a9-6b638ab41d0d",
   "metadata": {},
   "source": [
    "## Part 4 (Optional) - Create an ensemble and configure the model\n",
    "\n",
    "You have trained different classifiers but selected only one of them as \"the best\" one. Maybe instead of having the models competing between them, having them to colaborate would yield better results. \n",
    "\n",
    "We propose you to create an ensemble of the different classifiers explored in *Part 3*. You should compare the ensemble with the individual models using cross-validation, and then get the final accuracy and the confusion matrix for the ensemble.\n",
    "As a bonus, try to tune the parameters of this ensemble using either `GridSearchCV` or `RandomizedSearchCV`.\n",
    "\n",
    "1. Train an ensemble with the classifiers in *Part 3*.\n",
    "2. Compare the performance of this ensemble using cross-validation, the final accuracy, and the confusion matrix. Analyze the results.\n",
    "3. Fine-tune the hyper-parameters of the ensemble using `GridSearchCV` or `RandomizedSearchCV`."
   ]
  },
  {
   "cell_type": "code",
   "execution_count": null,
   "id": "e6f8a7e8-0d31-44a0-bbfa-ed74337edf8c",
   "metadata": {},
   "outputs": [],
   "source": [
    "# Your code here..."
   ]
  },
  {
   "cell_type": "markdown",
   "id": "44b2b144-ee23-4c6a-b8c8-4abf6e85dedb",
   "metadata": {},
   "source": [
    "## Part 5 - Wrap-up (2 points)\n",
    "The final part of this assignment is to wrap-up your classifier into a pipeline. This pipeline will execute the entire process:\n",
    "\n",
    "- Preprocess the data\n",
    "    - Select features\n",
    "    - Impute data\n",
    "    - Encode values\n",
    "- The classifier selected in *Part 3* (or the ensemble if it is better)\n",
    "\n",
    "This pipeline will be used in the other provided notebook to generate the predictions for the combats you have to submit.\n",
    "\n",
    "To ensure everything works as expected, we recommend you to load the dataset again before using it with the pipeline. You should also compare the accuracy and the confusion matrix from the pipeline with the model trained before. **Remember to set the random state to all the required transformers and estimators to have a constant output**."
   ]
  },
  {
   "cell_type": "code",
   "execution_count": 7,
   "id": "f464b6bb-4f99-4671-ba66-5f8d93ee1a46",
   "metadata": {},
   "outputs": [],
   "source": [
    "# Your code here..."
   ]
  }
 ],
 "metadata": {
  "kernelspec": {
   "display_name": "Python 3",
   "language": "python",
   "name": "python3"
  },
  "language_info": {
   "codemirror_mode": {
    "name": "ipython",
    "version": 3
   },
   "file_extension": ".py",
   "mimetype": "text/x-python",
   "name": "python",
   "nbconvert_exporter": "python",
   "pygments_lexer": "ipython3",
   "version": "3.8.8"
  }
 },
 "nbformat": 4,
 "nbformat_minor": 5
}
